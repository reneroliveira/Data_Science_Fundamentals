{
 "cells": [
  {
   "cell_type": "markdown",
   "metadata": {},
   "source": [
    "# <img style=\"float: left; padding-right: 10px; width: 45px\" src=\"style/iacs.png\"> S-109A Introduction to Data Science \n",
    "## Homework 4 - Regularization \n",
    "\n",
    "<hr style=\"height:2pt\">"
   ]
  },
  {
   "cell_type": "markdown",
   "metadata": {},
   "source": [
    "### INSTRUCTIONS\n",
    "\n",
    "- To submit your assignment follow the instructions given in canvas.\n",
    "- Restart the kernel and run the whole notebook again before you submit. \n",
    "- If you submit individually and you have worked with someone, please include the name of your [one] partner below. \n",
    "\n",
    "Names of people you have worked with goes here: \n",
    "\n",
    "<hr style=\"height:2pt\">"
   ]
  },
  {
   "cell_type": "code",
   "execution_count": 2,
   "metadata": {},
   "outputs": [
    {
     "data": {
      "text/html": [
       "<style>\n",
       "h1 { \n",
       "    padding-top: 25px;\n",
       "    padding-bottom: 25px;\n",
       "    text-align: left; \n",
       "    padding-left: 10px;\n",
       "    background-color: #DDDDDD; \n",
       "    color: black;\n",
       "}\n",
       "div.exercise {\n",
       "\tbackground-color: #ffcccc;\n",
       "\tborder-color: #E9967A; \t\n",
       "\tborder-left: 5px solid #800080; \n",
       "\tpadding: 0.5em;\n",
       "}\n",
       "div.theme {\n",
       "\tbackground-color: #DDDDDD;\n",
       "\tborder-color: #E9967A; \t\n",
       "\tborder-left: 5px solid #800080; \n",
       "\tpadding: 0.5em;\n",
       "\tfont-size: 18pt;\n",
       "}\n",
       "p.q1 { \n",
       "    padding-top: 5px;\n",
       "    padding-bottom: 5px;\n",
       "    text-align: left; \n",
       "    padding-left: 5px;\n",
       "    background-color: #EEEEEE; \n",
       "    color: black;\n",
       "}\n",
       "header {\n",
       "   padding-top: 35px;\n",
       "    padding-bottom: 35px;\n",
       "    text-align: left; \n",
       "    padding-left: 10px;\n",
       "    background-color: #DDDDDD; \n",
       "    color: black;\n",
       "}\n",
       "</style>\n",
       "\n"
      ],
      "text/plain": [
       "<IPython.core.display.HTML object>"
      ]
     },
     "execution_count": 2,
     "metadata": {},
     "output_type": "execute_result"
    }
   ],
   "source": [
    "## RUN THIS CELL TO GET THE RIGHT FORMATTING \n",
    "from IPython.core.display import HTML\n",
    "def css_styling():\n",
    "    styles = open(\"style/cs109.css\", \"r\").read()\n",
    "    return HTML(styles)\n",
    "css_styling()"
   ]
  },
  {
   "cell_type": "markdown",
   "metadata": {},
   "source": [
    "import these libraries"
   ]
  },
  {
   "cell_type": "code",
   "execution_count": 3,
   "metadata": {},
   "outputs": [],
   "source": [
    "import warnings\n",
    "warnings.filterwarnings('ignore')\n",
    "import numpy as np\n",
    "import pandas as pd\n",
    "import matplotlib\n",
    "import matplotlib.pyplot as plt\n",
    "from sklearn.metrics import r2_score\n",
    "from sklearn.preprocessing import PolynomialFeatures\n",
    "from sklearn.linear_model import Ridge\n",
    "from sklearn.linear_model import Lasso\n",
    "from sklearn.linear_model import RidgeCV\n",
    "from sklearn.linear_model import LassoCV\n",
    "from sklearn.linear_model import LinearRegression\n",
    "from sklearn.preprocessing import StandardScaler\n",
    "\n",
    "from sklearn.model_selection import cross_val_score\n",
    "from sklearn.model_selection import LeaveOneOut\n",
    "from sklearn.model_selection import KFold\n",
    "\n",
    "#import statsmodels.api as sm\n",
    "\n",
    "# from pandas.core import datetools\n",
    "%matplotlib inline"
   ]
  },
  {
   "cell_type": "markdown",
   "metadata": {},
   "source": [
    "# Continuing Bike Sharing Usage Data\n",
    "\n",
    "In this homework, we will focus on regularization and cross validation. We will continue to build regression models for the Capital Bikeshare program in Washington D.C.  See homework 3 for more information about the Capital Bikeshare data that we'll be using extensively. \n",
    "\n"
   ]
  },
  {
   "cell_type": "markdown",
   "metadata": {},
   "source": [
    "## Data Preparation\n",
    "\n",
    "\n",
    "\n",
    "<div class='exercise'> <b> Question 1 </b> </div> \n",
    "  In HW3 Questions 1-3, you preprocessed the data in preparation for your regression analysis. We ask you to repeat those steps (particularly those in Question 3) so that we can compare the analysis models in this HW with those you developed in HW3.  In this HW we'll be using models from sklearn exclusively (as opposed to statsmodels)\n",
    "  \n",
    "**1.1** [From HW3] Read `data/BSS_train.csv` and `data/BSS_test.csv` into dataframes `BSS_train` and `BSS_test`, respectively.  Remove the `dteday` column from both train and test dataset. We do not need it, and its format cannot be used for analysis.  Also remove the `casual` and `registered` columns for both training and test datasets as they make  `count` trivial.   \n",
    "\n",
    "**1.2** Since we'll be exploring Regularization and Polynomial Features, it will make sense to standardize our data.  Standardize the numerical features. Store the dataframes for the processed training and test predictors into the variables `X_train` and `X_test`.  Store the appropriately shaped numpy arrays for the corresponding train and test `count` columns into `y_train` and `y_test`.\n",
    "\n",
    "**1.3** Use the `LinearRegression` library from `sklearn` to fit a multiple linear regression model to the training set data in `X_train`.  Store the fitted model in the variable `BikeOLSModel`.\n",
    "\n",
    "**1.4** What are the training and test set $R^2$ scores?  Store the training and test $R^2$ scores of the `BikeOLSModel` in a dictionary `BikeOLS_r2scores` using the string 'training' and 'test' as keys.  \n",
    "\n",
    "**1.5**   We're going to use bootstrapped confidence intervals (use 500 bootstrap iterations) to determine which of the estimated coefficients for the `BikeOLSModel` are statistically significant at a significance level of 5% .  We'll do so by creating 3 different functions:\n",
    "\n",
    "1. `make_bootstrap_sample(dataset_X, dataset_y)` returns a bootstrap sample of `dataset_X` and `dataset_y`\n",
    "2. `calculate_coefficients(dataset_X, dataset_y, model)` returns in the form of a dictionary regression coefficients calculated by your model on `dataset_X` and `dataset_y`.  The keys for regression coefficients dictionary should be the names of the features.  The values should be the coefficient values of that feature calculated on your model.  An example would be {'hum': 12.3, 'windspeed': -1.2, 'Sunday': 0.6 ... }\n",
    "3. `get_significant_predictors(regression_coefficients, significance_level)` takes as input a list of regression coefficient dictionaries (each one the output of `calculate_coefficients` and  returns a python list of the feature names of the significant predictors e.g. ['Monday', 'hum', 'holiday', ... ]\n",
    "\n",
    "In the above functions `dataset_X` should always be a pandas dataframe with your features, `dataset_y` a numpy column vector with the values of the response variable and collectively they form the dataset upon which the operations take place. `model` is the `sklearn` regression model that will be used to generate the regression coefficients. `regression_coefficients` is a list of dictionaries of numpy arrays with each numpy array containing the regression coefficients (not including the intercept) calculated from one bootstrap sample.  `significance_level` represents the significance level as a floating point number.  So a 5% significance level should be represented as 0.05.  \n",
    "\n",
    "\n",
    "Store the feature names as a list of strings in the variable `BikeOLS_significant_bootstrap` and print them for your answer.\n"
   ]
  },
  {
   "cell_type": "markdown",
   "metadata": {},
   "source": [
    "### Answers"
   ]
  },
  {
   "cell_type": "markdown",
   "metadata": {},
   "source": [
    "#### 1.1 Read `data/BSS_train.csv` and `data/BSS_test.csv` into Pandas DataFrames"
   ]
  },
  {
   "cell_type": "code",
   "execution_count": 14,
   "metadata": {},
   "outputs": [],
   "source": [
    "# your code here\n",
    "BSS_train = pd.read_csv('data/BSS_train.csv').drop([\"Unnamed: 0\",'dteday','casual','registered'],axis=1)\n",
    "BSS_test = pd.read_csv('data/BSS_test.csv').drop([\"Unnamed: 0\",'dteday','casual','registered'],axis=1)"
   ]
  },
  {
   "cell_type": "markdown",
   "metadata": {},
   "source": [
    "#### 1.2 Standardizing our data"
   ]
  },
  {
   "cell_type": "code",
   "execution_count": 208,
   "metadata": {},
   "outputs": [],
   "source": [
    "# your code here\n",
    "X_train = BSS_train.drop('counts',axis=1)\n",
    "y_train = np.array(BSS_train['counts']).reshape(-1,1)\n",
    "X_test = BSS_test.drop('counts',axis=1)\n",
    "y_test = np.array(BSS_test['counts']).reshape(-1,1)\n",
    "\n",
    "num = ['hour','temp','atemp','hum','windspeed']\n",
    "scaler = StandardScaler().fit(X_train[num])\n",
    "X_train[num] = scaler.transform(X_train[num])\n",
    "X_test[num] = scaler.transform(X_test[num])"
   ]
  },
  {
   "cell_type": "markdown",
   "metadata": {},
   "source": [
    "#### 1.3 Use the `LinearRegression` library from `sklearn` to fit a multiple linear regression."
   ]
  },
  {
   "cell_type": "code",
   "execution_count": 159,
   "metadata": {},
   "outputs": [],
   "source": [
    "# your code here\n",
    "BikeOLSModel = LinearRegression(fit_intercept=True).fit(X_train, y_train)"
   ]
  },
  {
   "cell_type": "markdown",
   "metadata": {},
   "source": [
    "#### 1.4 What are the training and test set $R^2$ scores? Store the $R^2$ scores of the `BikeOLSModel` on the training and test sets in a dictionary `BikeOLS_r2scores`. "
   ]
  },
  {
   "cell_type": "code",
   "execution_count": 160,
   "metadata": {},
   "outputs": [
    {
     "data": {
      "text/plain": [
       "{'training': 0.4065387827969087, 'test': 0.40638554757102285}"
      ]
     },
     "execution_count": 160,
     "metadata": {},
     "output_type": "execute_result"
    }
   ],
   "source": [
    "y_pred = BikeOLSModel.predict(X_test)\n",
    "r2_test = r2_score(y_test,y_pred)\n",
    "r2_train = r2_score(y_train,BikeOLSModel.predict(X_train))\n",
    "BikeOLS_r2scores = {'training': r2_train,'test':r2_test}\n",
    "BikeOLS_r2scores"
   ]
  },
  {
   "cell_type": "markdown",
   "metadata": {},
   "source": [
    "#### 1.5 We're going to use bootstrapped confidence intervals to determine which of the estimated coefficients ..."
   ]
  },
  {
   "cell_type": "code",
   "execution_count": 269,
   "metadata": {},
   "outputs": [],
   "source": [
    "# References: https://machinelearningmastery.com/how-to-code-the-students-t-test-from-scratch-in-python/\n",
    "#             https://en.wikipedia.org/wiki/Ordinary_least_squares#Finite_sample_properties\n",
    "from scipy.stats import t,sem,ttest_ind,ttest_rel\n",
    "\n",
    "# dataset_x should be a pandas dataframe\n",
    "\n",
    "## accepts dataset inputs as numpy arrays\n",
    "def make_bootstrap_sample(dataset_X, dataset_y, size = None):\n",
    "    \n",
    "    \n",
    "    # by default return a bootstrap sample of the same size as the original dataset\n",
    "    if not size: size = len(dataset_X)\n",
    "    \n",
    "    # if the X and y datasets aren't the same size, raise an exception\n",
    "    if len(dataset_X) != len(dataset_y):\n",
    "        raise Exception(\"Data size must match between dataset_X and dataset_y\")\n",
    "        \n",
    "    df = pd.concat([dataset_X,pd.DataFrame(dataset_y,columns = ['y'])],axis=1)\n",
    "    bs_df = df.sample(n=size,replace=True,axis=0)\n",
    "    \n",
    "    bootstrap_dataset_X = bs_df.loc[:,dataset_X.columns]\n",
    "#     bs_df = df.sample(n=size,replace=True,axis=0)\n",
    "    bootstrap_dataset_y = np.array(bs_df.y).reshape(-1,1)\n",
    "    \n",
    "    # return as a tuple your bootstrap samples of dataset_X as a pandas dataframe\n",
    "    # and your bootstrap samples of dataset y as a numpy column vector\n",
    "    \n",
    "    return (bootstrap_dataset_X, bootstrap_dataset_y)\n",
    "    \n",
    "\n",
    "def calculate_coefficients(dataset_X, dataset_y, model):\n",
    "    \n",
    "    # your code here\n",
    "    \n",
    "    ols = model.fit(dataset_X,dataset_y)\n",
    "    coefficients_dictionary = {}\n",
    "    for i,param in enumerate(dataset_X.columns):\n",
    "        coefficients_dictionary[param] = ols.coef_[0][i]\n",
    "        \n",
    "    # return coefficients  in the variable  coefficients_dictioanry as a dictionary\n",
    "    # with the key being the name of the feature as a string\n",
    "    # the value being the value of the coefficients\n",
    "    # do not return the intercept as part of this\n",
    "    return coefficients_dictionary\n",
    "\n",
    "\n",
    "def get_significant_predictors(regression_coefficients, significance_level):\n",
    "   \n",
    "    significant_coefficients = []\n",
    "    n = len(X_train)\n",
    "    \n",
    "    coefs = regression_coefficients[0]\n",
    "    for param in regression_coefficients[0].keys():\n",
    "        boot_sample = np.array([k[param] for k in regression_coefficients])\n",
    "        mean = boot_sample.mean()\n",
    "        s = boot_sample.std()\n",
    "        t_stat = mean/s\n",
    "        p = (1-t.cdf(abs(t_stat), n-2))*2\n",
    "        if p<significance_level:\n",
    "            significant_coefficients.append(param)\n",
    "    \n",
    "    # regression_coefficients is a list of dictionaries\n",
    "    # with the key being the name of the feature as a string\n",
    "    # the value being the value of the coefficients\n",
    "    # each dictionary in th list should be the output of calculate_coefficients\n",
    "    \n",
    "    \n",
    "    # return the significant coefficients as a list of strings\n",
    "    return significant_coefficients"
   ]
  },
  {
   "cell_type": "code",
   "execution_count": 271,
   "metadata": {},
   "outputs": [
    {
     "name": "stdout",
     "output_type": "stream",
     "text": [
      "['hour', 'year', 'temp', 'hum', 'windspeed', 'spring', 'summer', 'fall', 'Mar', 'Apr', 'May', 'Jun', 'Jul', 'Aug', 'Nov', 'Dec', 'Sat', 'Cloudy', 'Snow']\n"
     ]
    },
    {
     "data": {
      "text/plain": [
       "19"
      ]
     },
     "execution_count": 271,
     "metadata": {},
     "output_type": "execute_result"
    }
   ],
   "source": [
    "coef_list = []\n",
    "for _ in range(500):\n",
    "    x_bs,y_bs = make_bootstrap_sample(X_train,y_train)\n",
    "    coef = calculate_coefficients(x_bs, y_bs, LinearRegression())\n",
    "    coef_list.append(coef)\n",
    "BikeOLS_significant_bootstrap = get_significant_predictors(coef_list, 0.05)\n",
    "print(BikeOLS_significant_bootstrap)\n",
    "len(BikeOLS_significant_bootstrap)"
   ]
  },
  {
   "cell_type": "markdown",
   "metadata": {},
   "source": [
    "## Penalization Methods\n",
    "\n",
    "In HW 3 Question 5 we explored using subset selection to find a significant subset of features.  We then fit a regression model just on that subset of features instead of on the full dataset (including all features).   As an alternative to selecting a subset of predictors and fitting a regression model on the subset, one can fit a linear regression model on all predictors, but shrink or regularize the coefficient estimates to make sure that the model does not \"overfit\" the training set. \n",
    "\n",
    "<div class='exercise'> <b> Question 2 </b> </div> \n",
    "  We're going to use Ridge and Lasso regression regularization techniques to fit linear models to the training set.  We'll use cross-validation and shrinkage parameters $\\lambda$ from the set $\\{.001,.005,1,5,10,50,100,500,1000\\}$ to pick the best model for each regularization technique.\n",
    "\n",
    "**2.1** Use 5-fold cross-validation to pick the best shrinkage parameter from the set $\\{.001,.005,1,5,10,50,100,500,1000\\}$ for your Ridge Regression model on the training data.  Fit a Ridge Regression model on the training set with the selected shrinkage parameter and store your fitted model in the variable `BikeRRModel`.  Store the selected shrinkage parameter in the variable `BikeRR_shrinkage_parameter`.\n",
    "\n",
    "**2.2** Use 5-fold cross-validation to pick the best shrinkage parameter from the set $\\{.001,.005,1,5,10,50,100,500,1000\\}$ for your Lasso Regression model on the training data.  Fit a Lasso Regression model on the training set with the selected shrinkage parameter and store your fitted model in the variable `BikeLRModel`.  Store the selected shrinkage parameter in the variable `BikeLR_shrinkage_parameter`.\n",
    "\n",
    "**2.3** Create three dictionaries `BikeOLSparams`, `BikeLRparams`, and `BikeRRparams`.  Store in each the corresponding regression coefficients for each of the regression models indexed by the string feature name.\n",
    "\n",
    "**2.4** For the Lasso and Ridge Regression models list the features that are assigned a coefficient value close to 0 (i.e. the absolute value of the coefficient is less than 0.1).  How closely do they match the redundant predictors found (if any) in HW 3, Question 5?\n",
    "\n",
    "**2.5** To get a visual sense of how the features different regression models (Multiple Linear Regression, Ridge Regression, Lasso Regression) estimate coefficients, order the features by magnitude of the estimated coefficients in the Multiple Linear Regression Model (no shrinkage).  Plot a bar graph of the magnitude (absolute value) of the estimated coefficients from Multiple Linear Regression in order from greatest to least.  Using a different color (and alpha values) overlay bar graphs of the magnitude of the estimated coefficients (in the same order as the Multiple Linear Regression coefficients) from Ridge and Lasso Regression.\n",
    "\n",
    "**2.6** Let's examine a pair of features we believe to be related.  Is there a difference in the way Ridge and Lasso regression assign coefficients to the predictors `temp` and `atemp`? If so, explain the reason for the difference.\n",
    "\n",
    "**2.7** Discuss the Results:\n",
    "\n",
    "1. How do the estimated coefficients compare to or differ from the coefficients estimated by a plain linear regression (without shrinkage penalty) in Question 1? \n",
    "2. Is there a difference between coefficients estimated by the two shrinkage methods? If so, give an explantion for the difference.\n",
    "3. Is the significance related to the shrinkage in some way?\n",
    "\n",
    "*Hint:* You may use `sklearn`'s `RidgeCV` and `LassoCV` classes to implement Ridge and Lasso regression. These classes automatically perform cross-validation to tune the parameter $\\lambda$ from a given range of values."
   ]
  },
  {
   "cell_type": "markdown",
   "metadata": {},
   "source": [
    "### Answers"
   ]
  },
  {
   "cell_type": "code",
   "execution_count": 15,
   "metadata": {},
   "outputs": [],
   "source": [
    "lambdas = [.001, .005, 1, 5, 10, 50, 100, 500, 1000]"
   ]
  },
  {
   "cell_type": "markdown",
   "metadata": {},
   "source": [
    "#### 2.1 Use 5-fold cross-validation to pick the best shrinkage parameter from the set $\\{.001,.005,1,5,10,50,100,500,1000\\}$ for your Ridge Regression model."
   ]
  },
  {
   "cell_type": "code",
   "execution_count": 16,
   "metadata": {},
   "outputs": [
    {
     "data": {
      "text/plain": [
       "Ridge(alpha=100.0, copy_X=True, fit_intercept=True, max_iter=None,\n",
       "      normalize=False, random_state=None, solver='auto', tol=0.001)"
      ]
     },
     "execution_count": 16,
     "metadata": {},
     "output_type": "execute_result"
    }
   ],
   "source": [
    "# your code here\n",
    "ridge_reg = RidgeCV(alphas=lambdas,cv=5,scoring='neg_mean_squared_error').fit(X_train,y_train)\n",
    "BikeRR_shrinkage_parameter = ridge_reg.alpha_\n",
    "BikeRRModel = Ridge(alpha = BikeRR_shrinkage_parameter).fit(X_train,y_train)\n",
    "BikeRRModel#.score(X_train,y_train)"
   ]
  },
  {
   "cell_type": "markdown",
   "metadata": {},
   "source": [
    "#### 2.2 Use 5-fold cross-validation to pick the best shrinkage parameter from the set $\\{.001,.005,1,5,10,50,100,500,1000\\}$ for your Lasso Regression model."
   ]
  },
  {
   "cell_type": "code",
   "execution_count": 17,
   "metadata": {},
   "outputs": [
    {
     "data": {
      "text/plain": [
       "Lasso(alpha=0.005, copy_X=True, fit_intercept=True, max_iter=1000,\n",
       "      normalize=False, positive=False, precompute=False, random_state=None,\n",
       "      selection='cyclic', tol=0.0001, warm_start=False)"
      ]
     },
     "execution_count": 17,
     "metadata": {},
     "output_type": "execute_result"
    }
   ],
   "source": [
    "# your code here\n",
    "lasso_reg = LassoCV(alphas=lambdas,cv=5).fit(X_train,y_train)\n",
    "BikeLR_shrinkage_parameter = lasso_reg.alpha_\n",
    "BikeLRModel = Lasso(alpha = BikeLR_shrinkage_parameter).fit(X_train,y_train)\n",
    "# BikeLRModel = Lasso(alpha = 50).fit(X_train,y_train)\n",
    "BikeLRModel#.score(X_train,y_train)"
   ]
  },
  {
   "cell_type": "code",
   "execution_count": 51,
   "metadata": {},
   "outputs": [
    {
     "data": {
      "image/png": "[encoded data removed]",
      "text/plain": [
       "<Figure size 1440x432 with 2 Axes>"
      ]
     },
     "metadata": {
      "needs_background": "light"
     },
     "output_type": "display_data"
    }
   ],
   "source": [
    "#Manually imlementing cross-validation for visualization\n",
    "kf = KFold(n_splits=5)\n",
    "MSE_ridge = []\n",
    "MSE_lasso = []\n",
    "\n",
    "lambda_r = 0 #best lambda for ridge\n",
    "lambda_l = 0 #best lambda for lasso\n",
    "\n",
    "score_r = -np.inf #for ridge\n",
    "score_l = -np.inf #for lasso\n",
    "\n",
    "for l in lambdas:\n",
    "    ridge_reg = Ridge(alpha=l)\n",
    "    lasso_reg = Lasso(alpha=l)\n",
    "    \n",
    "    neg_MSE_ridge = cross_val_score(ridge_reg, X_train, y_train, cv=kf,scoring='neg_mean_squared_error')\n",
    "    neg_MSE_lasso = cross_val_score(lasso_reg, X_train, y_train, cv=kf,scoring='neg_mean_squared_error')\n",
    "    \n",
    "    MSE_ridge.append(-neg_MSE_ridge.mean())\n",
    "    MSE_lasso.append(-neg_MSE_lasso.mean())\n",
    "    \n",
    "    if neg_MSE_ridge.mean() > score_r:\n",
    "        score_r = neg_MSE_ridge.mean()\n",
    "        lambda_r = l\n",
    "    if neg_MSE_lasso.mean() > score_l:\n",
    "        score_l = neg_MSE_lasso.mean()\n",
    "        lambda_l = l\n",
    "\n",
    "#Plotting commands\n",
    "fig,ax = plt.subplots(1,2,figsize=(20,6))\n",
    "\n",
    "ax[0].plot(np.log(lambdas),MSE_ridge,'-o',lw=2.7)\n",
    "ax[0].set_xticks(np.log(lambdas))\n",
    "ax[0].set_xticklabels(lambdas,rotation=-55,fontsize=14);\n",
    "ax[0].tick_params(axis=\"y\", labelsize=14)\n",
    "ax[0].set_title(\"Ridge 5-Fold Cross-Validation\",fontsize=17)\n",
    "ax[0].set_xlabel(\"$\\lambda$\",fontsize=15)\n",
    "ax[0].set_ylabel(\"MSE\",fontsize=15)\n",
    "ax[0].grid(True,alpha=0.75,ls='--')\n",
    "\n",
    "ax[1].plot(np.log(lambdas),MSE_lasso,'-o',lw=2.7)\n",
    "ax[1].set_xticks(np.log(lambdas))\n",
    "ax[1].set_xticklabels(lambdas,rotation=-55,fontsize=14);\n",
    "ax[1].tick_params(axis=\"y\", labelsize=14)\n",
    "ax[1].set_title(\"Lasso 5-Fold Cross-Validation\",fontsize=17)\n",
    "ax[1].set_xlabel(\"$\\lambda$\",fontsize=15)\n",
    "ax[1].set_ylabel(\"MSE\",fontsize=15)\n",
    "ax[1].grid(True,alpha=0.75,ls='--')\n"
   ]
  },
  {
   "cell_type": "markdown",
   "metadata": {},
   "source": [
    "#### 2.3 Create three dictionaries `BikeOLSparams`, `BikeLRparams`, and `BikeRRparams`.  Store in each the corresponding regression coefficients."
   ]
  },
  {
   "cell_type": "code",
   "execution_count": 52,
   "metadata": {},
   "outputs": [],
   "source": [
    "# your code here\n",
    "BikeOLSparams = {}\n",
    "BikeLRparams = {}\n",
    "BikeRRparams = {}\n",
    "for i,param in enumerate(X_train.columns):\n",
    "    BikeOLSparams[param] = BikeOLSModel.coef_[0][i]\n",
    "    BikeLRparams[param] = BikeLRModel.coef_[i]\n",
    "    BikeRRparams[param] = BikeRRModel.coef_[0][i]"
   ]
  },
  {
   "cell_type": "markdown",
   "metadata": {},
   "source": [
    "#### 2.4 For the Lasso and Ridge Regression models list the features that are assigned a coefficient value close to 0 ..."
   ]
  },
  {
   "cell_type": "code",
   "execution_count": 53,
   "metadata": {},
   "outputs": [
    {
     "name": "stdout",
     "output_type": "stream",
     "text": [
      "Lasso Zeroed features: ['Mon']\n",
      "Ridge Zeroed features: []\n"
     ]
    }
   ],
   "source": [
    "# your code here\n",
    "zero_lasso = []\n",
    "zero_ridge = []\n",
    "for param in X_train.columns:\n",
    "    if abs(BikeLRparams[param])<0.1:\n",
    "        zero_lasso.append(param)\n",
    "    if abs(BikeRRparams[param])<0.1:\n",
    "        zero_ridge.append(param)\n",
    "print(\"Lasso Zeroed features: {}\".format(zero_lasso))\n",
    "print(\"Ridge Zeroed features: {}\".format(zero_ridge))"
   ]
  },
  {
   "cell_type": "markdown",
   "metadata": {},
   "source": [
    "<HR>\n",
    " In HW3 Question 5, our stepwise selection algorithm selected the following predictors:\n",
    "    \n",
    " - 'temp', 'hour', 'year', 'hum', 'fall', 'Jul', 'Snow', 'Aug', 'Jun', 'holiday',\n",
    "'spring'\n",
    "\n",
    "The Lasso Regression ($\\lambda=0.005$) zeroed just the 'Mon' feature and the Ridge ($\\lambda = 100$) maintained all predictors in the model\n",
    "<HR>"
   ]
  },
  {
   "cell_type": "markdown",
   "metadata": {},
   "source": [
    "#### 2.5 To get a visual sense of how the features different regression models (Multiple Linear Regression, Ridge Regression, Lasso Regression) estimate coefficients, order the features by magnitude of the estimated coefficients in the Multiple Linear Regression Model (no shrinkage)."
   ]
  },
  {
   "cell_type": "code",
   "execution_count": 61,
   "metadata": {},
   "outputs": [
    {
     "data": {
      "text/html": [
       "<div>\n",
       "<style scoped>\n",
       "    .dataframe tbody tr th:only-of-type {\n",
       "        vertical-align: middle;\n",
       "    }\n",
       "\n",
       "    .dataframe tbody tr th {\n",
       "        vertical-align: top;\n",
       "    }\n",
       "\n",
       "    .dataframe thead th {\n",
       "        text-align: right;\n",
       "    }\n",
       "</style>\n",
       "<table border=\"1\" class=\"dataframe\">\n",
       "  <thead>\n",
       "    <tr style=\"text-align: right;\">\n",
       "      <th></th>\n",
       "      <th>OLS</th>\n",
       "      <th>Lasso</th>\n",
       "      <th>Ridge</th>\n",
       "    </tr>\n",
       "  </thead>\n",
       "  <tbody>\n",
       "    <tr>\n",
       "      <th>temp</th>\n",
       "      <td>64.214408</td>\n",
       "      <td>63.832847</td>\n",
       "      <td>48.492270</td>\n",
       "    </tr>\n",
       "    <tr>\n",
       "      <th>atemp</th>\n",
       "      <td>12.832458</td>\n",
       "      <td>12.868765</td>\n",
       "      <td>23.343775</td>\n",
       "    </tr>\n",
       "  </tbody>\n",
       "</table>\n",
       "</div>"
      ],
      "text/plain": [
       "             OLS      Lasso      Ridge\n",
       "temp   64.214408  63.832847  48.492270\n",
       "atemp  12.832458  12.868765  23.343775"
      ]
     },
     "execution_count": 61,
     "metadata": {},
     "output_type": "execute_result"
    },
    {
     "data": {
      "image/png": "[encoded data removed]",
      "text/plain": [
       "<Figure size 1080x288 with 1 Axes>"
      ]
     },
     "metadata": {
      "needs_background": "light"
     },
     "output_type": "display_data"
    }
   ],
   "source": [
    "ols = pd.DataFrame.from_dict(BikeOLSparams,orient='index',\n",
    "    columns=['OLS Coef']).apply(np.abs).sort_values(by='OLS Coef',ascending=0)\n",
    "lr = pd.DataFrame.from_dict(BikeLRparams,orient='index',\n",
    "    columns=['Lasso Coef']).apply(np.abs)\n",
    "rr = pd.DataFrame.from_dict(BikeRRparams,orient='index',\n",
    "    columns=['Ridge Coef']).apply(np.abs)\n",
    "\n",
    "fig,ax = plt.subplots(1,1,figsize=(15,4))\n",
    "ax.set_title(\"Coefficients ABS by Regression type\",fontsize=15)\n",
    "ax.set_xlabel(\"Feature Name\",fontsize=12)\n",
    "ax.set_ylabel(\"Coefficient Absolute Value\",fontsize=12)\n",
    "pd.concat([ols,lr,rr],axis=1).plot.bar(ax=ax,width=0.7);\n",
    "\n",
    "pd.DataFrame(np.array([[BikeOLSparams['temp'],BikeLRparams['temp'],BikeRRparams['temp']],\n",
    "                      [BikeOLSparams['atemp'],BikeLRparams['atemp'],BikeRRparams['atemp']]]),\n",
    "             columns = ['OLS','Lasso','Ridge'],index = ['temp','atemp'])"
   ]
  },
  {
   "cell_type": "markdown",
   "metadata": {},
   "source": [
    "#### 2.6 Let's examine a pair of features we believe to be related.  Is there a difference in the way Ridge and Lasso regression assign coefficients ...v"
   ]
  },
  {
   "cell_type": "markdown",
   "metadata": {},
   "source": [
    "<HR>\n",
    "The Lasso coefficients for temp and atemp were very similar (slightly lower) to the original OLS ones, that's because the regularization parameter is quite low ($\\lambda = 0.005$).\n",
    "    \n",
    "But analyzing Ridge Regression, we had a lower temp coefficient and a higher atemp coefficient (comparing to Lasso) as we can see above.\n",
    "    \n",
    "Since temp has that higher magnitude coefficients, both regularization methods penalized it. Lasso decreased it just a litle bit as explained, but Ridge decreased it by almost half. Since its an important feature to the model, such a reduction would damage the scoring metrics; The ajust made by the model was an increase, doubling the atemp coefficient, since it's extremely related to temp. The overall L2-norm of these coefficients on Ridge regression is lower than the L2-norm of simple OLS, as we can see.\n",
    "<HR>"
   ]
  },
  {
   "cell_type": "code",
   "execution_count": 55,
   "metadata": {},
   "outputs": [
    {
     "name": "stdout",
     "output_type": "stream",
     "text": [
      "OLS Norm: 65.48\n",
      "Ridge Norm: 53.82\n"
     ]
    }
   ],
   "source": [
    "print(\"OLS Norm: {:.2f}\".format(np.sqrt(BikeOLSparams['temp']**2+BikeOLSparams['atemp']**2)))\n",
    "print(\"Ridge Norm: {:.2f}\".format(np.sqrt(BikeRRparams['temp']**2+BikeRRparams['atemp']**2)))"
   ]
  },
  {
   "cell_type": "markdown",
   "metadata": {},
   "source": [
    "#### 2.7.1 How do the estimated coefficients compare to or differ from ..."
   ]
  },
  {
   "cell_type": "markdown",
   "metadata": {},
   "source": [
    "<HR>\n",
    "In the plot titled \"Coefficients ABS by Regression type\", we can see that the greatest coefficients (by absolute value) in OLS regression got shrink by the regularized regressions.\n",
    "    \n",
    "We can say that this happened with all features, except for some with low absolute coefficients value in OLS regression when the regularized model increase the value. But overall, the regularized coefficients got its module shrank.\n",
    "<HR>"
   ]
  },
  {
   "cell_type": "markdown",
   "metadata": {},
   "source": [
    "#### 2.7.2 Is there a difference between coefficients estimated by the two shrinkage methods ..."
   ]
  },
  {
   "cell_type": "markdown",
   "metadata": {},
   "source": [
    "<HR>\n",
    "As briefly explained in 2.6, the Lasso Regression coefficients are very close to the original ones, because of the optimal lambda parameter .005.\n",
    "    \n",
    "Ridge Regression coefficients differs a lot from the Lasso ones (and OLS ones) because it shrank the most \"heavy\" coefficients on the original model and compensates the loss in regression score by increasing coefficients originally with the low module. Ridge does that in order to optimize the L2-norm of coefficients.\n",
    "<HR>"
   ]
  },
  {
   "cell_type": "markdown",
   "metadata": {},
   "source": [
    "#### 2.7.3 Is the significance related to the shrinkage in some way?"
   ]
  },
  {
   "cell_type": "markdown",
   "metadata": {},
   "source": [
    "<HR>\n",
    "We can observe either statistically significant coefficients didn't get shrink too much by Ridge and also those who really got shrink (we're analyzing just Ridge 'cause Lasso shrinkage is very little).\n",
    "    \n",
    "It isn't directly connected with significance because Ridge will try to optimize the L2-norm rebalancing the values of the coefficients. The side effect is that it can increase coefficients values of not significant features and decreases the significant ones, as we can visualize below.\n",
    "<HR>"
   ]
  },
  {
   "cell_type": "code",
   "execution_count": 99,
   "metadata": {},
   "outputs": [
    {
     "data": {
      "image/png": "[encoded data removed]",
      "text/plain": [
       "<Figure size 1080x576 with 2 Axes>"
      ]
     },
     "metadata": {
      "needs_background": "light"
     },
     "output_type": "display_data"
    }
   ],
   "source": [
    "sig = ['hour','holiday','year','workingday','temp','hum','windspeed','spring','summer',\n",
    "       'fall','Apr','May','Jun','Jul','Aug','Nov','Sat','Cloudy','Snow'] #From hw3\n",
    "\n",
    "fig,(ax,ax1) = plt.subplots(2,1,figsize=(15,8))\n",
    "ax.set_title(\"Ridge Shrinkage - Significant Coefs\",fontsize=15)\n",
    "ax.set_xlabel(\"Feature Name\",fontsize=12)\n",
    "ax.set_ylabel(\"Coefficient Absolute Value\",fontsize=12)\n",
    "pd.concat([ols,lr,rr],axis=1).loc[sig,:].sort_values(by=\"OLS Coef\",ascending=0).plot.bar(ax=ax,width=0.7);\n",
    "\n",
    "fig.tight_layout(pad=3.0)\n",
    "\n",
    "ax1.set_title(\"Ridge Shrinkage - Non-Significant Coefs\",fontsize=15)\n",
    "ax1.set_xlabel(\"Feature Name\",fontsize=12)\n",
    "ax1.set_ylabel(\"Coefficient Absolute Value\",fontsize=12)\n",
    "pd.concat([ols,lr,rr],axis=1).loc[ols.index.drop(sig),:].sort_values(by=\"OLS Coef\",ascending=0).plot.bar(ax=ax1,width=0.7);\n"
   ]
  },
  {
   "cell_type": "markdown",
   "metadata": {},
   "source": [
    "<div class='exercise'> <b> Question 3: Polynomial Features, Interaction Terms, and Cross Validation </b> </div>\n"
   ]
  },
  {
   "cell_type": "markdown",
   "metadata": {},
   "source": [
    "We would like to fit a model to include all main effects and polynomial terms for numerical predictors up to the $4^{th}$ order. More precisely use the following terms: \n",
    " - predictors in `X_train` and `X_test`\n",
    " - $X^1_j$, $X^2_j$, $X^3_j$, and $X^4_j$ for each numerical predictor $X_j$\n",
    "\n",
    "**3.1** Create an expanded training set including all the desired terms mentioned above. Store that training set (as a pandas dataframe) in the variable `X_train_poly`.  Create the corresponding test set and store it as a pandas dataframe in `X_test_poly`.\n",
    "\n",
    "**3.2** Discuss the following:\n",
    "\n",
    "1. What are the dimensions of this 'design matrix' of all the predictor variables in 3.1?  \n",
    "2. What issues may we run into attempting to fit a regression model using all of these predictors?\n",
    "\n",
    "**3.3** Let's try fitting a regression model on all the predictors anyway.  Use the `LinearRegression` library from `sklearn` to fit a multiple linear regression model to the training set data in `X_train_poly`.  Store the fitted model in the variable `BikeOLSPolyModel`.\n",
    "\n",
    "**3.4** Discuss the following:\n",
    "1. What are the training and test $R^2$ scores? \n",
    "2. How does the model performance compare with the OLS model on the original set of features in Question 1?\n",
    "\n",
    "**3.5** The training set $R^2$ score we generated for our model with polynomial and interaction terms doesn't have any error bars.  Let's use cross-validation to generate sample sets of $R^2$ for our model. Use 5-fold cross-validation to generate $R^2$ scores for the multiple linear regression model with polynomial terms.  What are the mean and standard deviation of the $R^2$ scores for your model.\n",
    "\n",
    "**3.6** Visualize the $R^2$ scores generated from the 5-fold cross validation as a box and whisker plot.\n",
    "\n",
    "**3.7** We've used cross-validation to generate error bars around our $R^2$ scores, but another use of cross-validation is as a way of model selection.  Let's construct the following model alternatives:\n",
    "\n",
    "1. Multiple linear regression model generated based upon the feature set in Question 1 (let's call these the base features.\n",
    "2. base features plus polynomial features to order 2\n",
    "3. base features plus polynomial features to order 4\n",
    "\n",
    "Use 5-fold cross validation on the training set to select the best model.  Make sure to evaluate all the models as much as possible on the same folds.  For each model generate a mean and standard deviation for the $R^2$ score.\n",
    "\n",
    "**3.8** Visualize the $R^2$ scores generated for each model from 5-fold cross validation in box and whiskers plots.  Do the box and whisker plots influence your view of which model was best?\n",
    "\n",
    "**3.9** Evaluate each of the model alternatives on the test set.  How do the results compare with the results from cross-validation?"
   ]
  },
  {
   "cell_type": "markdown",
   "metadata": {},
   "source": [
    "### Answers"
   ]
  },
  {
   "cell_type": "markdown",
   "metadata": {},
   "source": [
    "#### 3.1 Create an expanded training set including all the desired terms mentioned above. Store that training set (as a numpy array) in the variable `X_train_poly`...."
   ]
  },
  {
   "cell_type": "code",
   "execution_count": 101,
   "metadata": {},
   "outputs": [],
   "source": [
    "# Reference: CS109A - Standard Section 4: Regularization and Model Selection\n",
    "\n",
    "def cross_names(cols):\n",
    "    names = []\n",
    "    for i in range(len(cols)):\n",
    "        [names.append(x) for x in [\"{} x {}\".format(cols[i],cols[j]) for j in range(i+1,len(cols))]]\n",
    "    return names\n",
    "\n",
    "def get_poly_dataset(X_train,X_test,n,num = ['hour','temp','atemp','hum','windspeed']):\n",
    "   \n",
    "    xtrain_cp = X_train.copy()\n",
    "    xtest_cp = X_test.copy()\n",
    "    for param in num:\n",
    "        for i in range(2,n+1):\n",
    "            xtrain_cp[\"{}^{}\".format(param,i)] = xtrain_cp[param]**i\n",
    "            xtest_cp[\"{}^{}\".format(param,i)] = xtest_cp[param]**i\n",
    "    return (xtrain_cp,xtest_cp)"
   ]
  },
  {
   "cell_type": "code",
   "execution_count": 102,
   "metadata": {},
   "outputs": [
    {
     "data": {
      "text/plain": [
       "(13903, 46)"
      ]
     },
     "execution_count": 102,
     "metadata": {},
     "output_type": "execute_result"
    }
   ],
   "source": [
    "X_poly_train, X_poly_test = get_poly_dataset(X_train, X_test, 4)\n",
    "X_poly_train.shape"
   ]
  },
  {
   "cell_type": "markdown",
   "metadata": {},
   "source": [
    "#### 3.2.1 What are the dimensions of this 'design matrix'...**"
   ]
  },
  {
   "cell_type": "markdown",
   "metadata": {},
   "source": [
    "<HR>\n",
    " The training X matrix has the dimensions 13903 x 46 (without constant column) and 13903 x 47 (if we add the constant column)\n",
    "<HR>"
   ]
  },
  {
   "cell_type": "markdown",
   "metadata": {},
   "source": [
    "#### 3.2.2 What issues may we run into attempting to fit a regression model using all of these predictors? ...**"
   ]
  },
  {
   "cell_type": "markdown",
   "metadata": {},
   "source": [
    "<HR>\n",
    "Increasing the model complexity we're gonna reduce bias, with the trade-off of increasing the variance and then, the total error. We can also overfit the model to the training set.\n",
    "<HR>"
   ]
  },
  {
   "cell_type": "markdown",
   "metadata": {},
   "source": [
    "#### 3.3 Let's try fitting a regression model on all the predictors anyway.  Use the `LinearRegression` library from `sklearn` to fit a multiple linear regression model ...."
   ]
  },
  {
   "cell_type": "code",
   "execution_count": 103,
   "metadata": {},
   "outputs": [
    {
     "data": {
      "text/plain": [
       "LinearRegression(copy_X=True, fit_intercept=True, n_jobs=None, normalize=False)"
      ]
     },
     "execution_count": 103,
     "metadata": {},
     "output_type": "execute_result"
    }
   ],
   "source": [
    "BikeOLSPolyModel = LinearRegression()\n",
    "BikeOLSPolyModel.fit(X_poly_train, y_train)"
   ]
  },
  {
   "cell_type": "markdown",
   "metadata": {},
   "source": [
    "#### 3.4.1 What are the training and test $R^2$ scores?"
   ]
  },
  {
   "cell_type": "code",
   "execution_count": 105,
   "metadata": {},
   "outputs": [
    {
     "name": "stdout",
     "output_type": "stream",
     "text": [
      "Training R2: 0.555313\n",
      "Test R2: 0.551873\n"
     ]
    }
   ],
   "source": [
    "# your code here\n",
    "y_train_pred = BikeOLSPolyModel.predict(X_poly_train)\n",
    "y_test_pred = BikeOLSPolyModel.predict(X_poly_test)\n",
    "\n",
    "print(\"Training R2: {:.6f}\\nTest R2: {:.6f}\".format(r2_score(y_train,y_train_pred),\n",
    "                                                    r2_score(y_test,y_test_pred)))"
   ]
  },
  {
   "cell_type": "markdown",
   "metadata": {},
   "source": [
    "#### 3.4.2 How does the model performance compare with the OLS model on the original set of features in Question 1?"
   ]
  },
  {
   "cell_type": "code",
   "execution_count": 106,
   "metadata": {},
   "outputs": [
    {
     "data": {
      "text/plain": [
       "{'training': 0.4065387827969087, 'test': 0.40638554757102285}"
      ]
     },
     "execution_count": 106,
     "metadata": {},
     "output_type": "execute_result"
    }
   ],
   "source": [
    "BikeOLS_r2scores"
   ]
  },
  {
   "cell_type": "markdown",
   "metadata": {},
   "source": [
    "<HR>\n",
    "Comparing to Question 1 scores, we got better R2 scores overall.\n",
    "<HR>"
   ]
  },
  {
   "cell_type": "markdown",
   "metadata": {},
   "source": [
    "#### 3.5 The training set $R^2$ score we generated for our model with polynomial and interaction terms doesn't have any error bars.  Let's use cross-validation to generate sample..."
   ]
  },
  {
   "cell_type": "code",
   "execution_count": 110,
   "metadata": {},
   "outputs": [
    {
     "name": "stdout",
     "output_type": "stream",
     "text": [
      "Mean = 0.3986\n",
      "Std. dev. = 0.1297\n"
     ]
    }
   ],
   "source": [
    "r2 = cross_val_score(LinearRegression(), X_poly_train, y_train, cv=KFold(n_splits=5),scoring='r2')\n",
    "print(\"Mean = {:.4f}\".format(r2.mean()))\n",
    "print(\"Std. dev. = {:.4f}\".format(r2.std()))"
   ]
  },
  {
   "cell_type": "markdown",
   "metadata": {},
   "source": [
    "<HR>\n",
    "We got a mean of $\\approx 0.3986$ and a standard deviation of $\\approx 0.1297$\n",
    "<HR>"
   ]
  },
  {
   "cell_type": "markdown",
   "metadata": {},
   "source": [
    "#### 3.6 Visualize the $R^2$ scores generated from the 5-fold cross validation as a box and whisker plot."
   ]
  },
  {
   "cell_type": "code",
   "execution_count": 112,
   "metadata": {},
   "outputs": [
    {
     "data": {
      "image/png": "[encoded data removed]",
      "text/plain": [
       "<Figure size 432x288 with 1 Axes>"
      ]
     },
     "metadata": {
      "needs_background": "light"
     },
     "output_type": "display_data"
    }
   ],
   "source": [
    "plt.title(\"Polynomial Regression R2 Score\",fontsize=14)\n",
    "plt.boxplot(r2, labels=[\"R2 Cross Validation\"],showmeans=True);"
   ]
  },
  {
   "cell_type": "markdown",
   "metadata": {},
   "source": [
    "#### 3.7 We've used cross-validation to generate error bars around our $R^2$ scores, but another use of cross-validation is as a way of model selection.  Let's construct the following model alternatives ..."
   ]
  },
  {
   "cell_type": "code",
   "execution_count": 113,
   "metadata": {},
   "outputs": [
    {
     "data": {
      "text/html": [
       "<div>\n",
       "<style scoped>\n",
       "    .dataframe tbody tr th:only-of-type {\n",
       "        vertical-align: middle;\n",
       "    }\n",
       "\n",
       "    .dataframe tbody tr th {\n",
       "        vertical-align: top;\n",
       "    }\n",
       "\n",
       "    .dataframe thead th {\n",
       "        text-align: right;\n",
       "    }\n",
       "</style>\n",
       "<table border=\"1\" class=\"dataframe\">\n",
       "  <thead>\n",
       "    <tr style=\"text-align: right;\">\n",
       "      <th></th>\n",
       "      <th>Model 1 R²</th>\n",
       "      <th>Model 2 R²</th>\n",
       "      <th>Model 3 R²</th>\n",
       "    </tr>\n",
       "  </thead>\n",
       "  <tbody>\n",
       "    <tr>\n",
       "      <th>Mean</th>\n",
       "      <td>0.257994</td>\n",
       "      <td>0.355123</td>\n",
       "      <td>0.398601</td>\n",
       "    </tr>\n",
       "    <tr>\n",
       "      <th>Std</th>\n",
       "      <td>0.092201</td>\n",
       "      <td>0.096739</td>\n",
       "      <td>0.129711</td>\n",
       "    </tr>\n",
       "  </tbody>\n",
       "</table>\n",
       "</div>"
      ],
      "text/plain": [
       "      Model 1 R²  Model 2 R²  Model 3 R²\n",
       "Mean    0.257994    0.355123    0.398601\n",
       "Std     0.092201    0.096739    0.129711"
      ]
     },
     "execution_count": 113,
     "metadata": {},
     "output_type": "execute_result"
    }
   ],
   "source": [
    "X_deg2_train,X_deg2_test = get_poly_dataset(X_train,X_test,2)\n",
    "X_deg4_train,X_deg4_test = get_poly_dataset(X_train,X_test,4)\n",
    "\n",
    "kf = KFold(n_splits=5)\n",
    "model1_r2 = cross_val_score(LinearRegression(), X_train, y_train, cv=kf, scoring='r2')\n",
    "model2_r2 = cross_val_score(LinearRegression(), X_deg2_train, y_train, cv=kf, scoring='r2')\n",
    "model3_r2 = cross_val_score(LinearRegression(), X_deg4_train, y_train, cv=kf, scoring='r2')\n",
    "\n",
    "r2_df = pd.DataFrame(np.array([[model1_r2.mean(),model2_r2.mean(),model3_r2.mean()],\n",
    "                       [model1_r2.std(),model2_r2.std(),model3_r2.std()]]),\n",
    "             index=['Mean','Std'],columns=[\"Model 1 R²\",\"Model 2 R²\",\"Model 3 R²\"])\n",
    "r2_df"
   ]
  },
  {
   "cell_type": "markdown",
   "metadata": {},
   "source": [
    "#### 3.8 Visualize the $R^2$ scores generated for each model from 5-fold cross validation in box and whiskers plots.  Do the box and whisker plots influence your view of which model was best? ..."
   ]
  },
  {
   "cell_type": "code",
   "execution_count": 114,
   "metadata": {},
   "outputs": [
    {
     "data": {
      "image/png": "[encoded data removed]",
      "text/plain": [
       "<Figure size 432x288 with 1 Axes>"
      ]
     },
     "metadata": {
      "needs_background": "light"
     },
     "output_type": "display_data"
    }
   ],
   "source": [
    "# your code here\n",
    "r2_df.boxplot(showmeans=True,grid=1);"
   ]
  },
  {
   "cell_type": "markdown",
   "metadata": {},
   "source": [
    "The plot influence us to think that the third model is the best, since it got a higher R2 distribution."
   ]
  },
  {
   "cell_type": "markdown",
   "metadata": {},
   "source": [
    "#### 3.9 Evaluate each of the model alternatives on the  test set.  How do the results compare with the results from cross-validation?"
   ]
  },
  {
   "cell_type": "code",
   "execution_count": 115,
   "metadata": {},
   "outputs": [
    {
     "data": {
      "text/plain": [
       "(0.40638554757102285, 0.49794171765518735, 0.5518725502376848)"
      ]
     },
     "execution_count": 115,
     "metadata": {},
     "output_type": "execute_result"
    }
   ],
   "source": [
    "# your code here\n",
    "model1 = LinearRegression().fit(X_train,y_train)\n",
    "model2 = LinearRegression().fit(X_deg2_train,y_train)\n",
    "model3 = LinearRegression().fit(X_deg4_train,y_train)\n",
    "\n",
    "y1_pred = model1.predict(X_test)\n",
    "y2_pred = model2.predict(X_deg2_test)\n",
    "y3_pred = model3.predict(X_deg4_test)\n",
    "\n",
    "r2test1 = r2_score(y_test,y1_pred)\n",
    "r2test2 = r2_score(y_test,y2_pred)\n",
    "r2test3 = r2_score(y_test,y3_pred)\n",
    "r2test1,r2test2,r2test3"
   ]
  },
  {
   "cell_type": "markdown",
   "metadata": {},
   "source": [
    "<HR>\n",
    "Model 3 (Polynomial 4th degree) is still the best one; comparing now the test R2 score.\n",
    "<HR>"
   ]
  },
  {
   "cell_type": "code",
   "execution_count": 2,
   "metadata": {},
   "outputs": [
    {
     "name": "stdout",
     "output_type": "stream",
     "text": [
      "[NbConvertApp] Converting notebook fds_hw4_RENER_OLIVEIRA.ipynb to PDF\n",
      "[NbConvertApp] Executing notebook with kernel: python3\n",
      "[NbConvertApp] Support files will be in fds_hw4_RENER_OLIVEIRA_files/\n",
      "[NbConvertApp] Making directory ./fds_hw4_RENER_OLIVEIRA_files\n",
      "[NbConvertApp] Making directory ./fds_hw4_RENER_OLIVEIRA_files\n",
      "[NbConvertApp] Making directory ./fds_hw4_RENER_OLIVEIRA_files\n",
      "[NbConvertApp] Making directory ./fds_hw4_RENER_OLIVEIRA_files\n",
      "[NbConvertApp] Making directory ./fds_hw4_RENER_OLIVEIRA_files\n",
      "[NbConvertApp] Writing 102060 bytes to ./notebook.tex\n",
      "[NbConvertApp] Building PDF\n",
      "[NbConvertApp] Running xelatex 3 times: ['xelatex', './notebook.tex', '-quiet']\n",
      "[NbConvertApp] Running bibtex 1 time: ['bibtex', './notebook']\n",
      "[NbConvertApp] WARNING | bibtex had problems, most likely because there were no citations\n",
      "[NbConvertApp] PDF successfully created\n",
      "[NbConvertApp] Writing 220700 bytes to fds_hw4_RENER_OLIVEIRA.pdf\n"
     ]
    }
   ],
   "source": [
    "!jupyter nbconvert --execute --to PDF \"fds_hw4_RENER_OLIVEIRA.ipynb\""
   ]
  }
 ],
 "metadata": {
  "anaconda-cloud": {},
  "kernelspec": {
   "display_name": "Python 3",
   "language": "python",
   "name": "python3"
  },
  "language_info": {
   "codemirror_mode": {
    "name": "ipython",
    "version": 3
   },
   "file_extension": ".py",
   "mimetype": "text/x-python",
   "name": "python",
   "nbconvert_exporter": "python",
   "pygments_lexer": "ipython3",
   "version": "3.7.6"
  }
 },
 "nbformat": 4,
 "nbformat_minor": 4
}
